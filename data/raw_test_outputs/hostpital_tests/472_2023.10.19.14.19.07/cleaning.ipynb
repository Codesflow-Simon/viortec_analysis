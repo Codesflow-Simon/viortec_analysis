{
 "cells": [
  {
   "cell_type": "code",
   "execution_count": 41,
   "metadata": {},
   "outputs": [],
   "source": [
    "import pandas as pd\n",
    "import numpy as np\n",
    "from util import *"
   ]
  },
  {
   "cell_type": "code",
   "execution_count": 42,
   "metadata": {},
   "outputs": [],
   "source": [
    "def is_integer(char):\n",
    "  \"\"\"Returns True if the given character is an integer, False otherwise.\"\"\"\n",
    "  try:\n",
    "    int(char)\n",
    "    return True\n",
    "  except ValueError:\n",
    "    return False"
   ]
  },
  {
   "cell_type": "code",
   "execution_count": 43,
   "metadata": {},
   "outputs": [],
   "source": [
    "df = pd.DataFrame(columns=[\"time\",\"femur_x\",\"femur_y\",\"femur_z\",\"tibia_x\",\"tibia_y\",\"tibia_z\",\"gf\",\"mg\",\"gt\",\"mt\"])\n",
    "with open(\"data.txt\", \"r\") as f:\n",
    "    femur_counter = 0;\n",
    "    tibia_counter = 0;\n",
    "    for i, line in enumerate(f.readlines()):\n",
    "        if i<2733: continue\n",
    "        line = line.strip()\n",
    "        if len(line) < 1: continue\n",
    "        if not is_integer(line[0]): continue\n",
    "        if line.split()[2] == 0: continue\n",
    "        flat = line.split()[-9:]\n",
    "        flat = [float(num) for num in flat]\n",
    "        matrix = np.array(flat).reshape(3,3)\n",
    "        pitch, roll, yaw = rotation_matrix_to_euler_angles(matrix)\n",
    "\n",
    "        if (line.split()[1] == \"0\"):\n",
    "            df.loc[femur_counter] = np.zeros(11)\n",
    "            df.at[femur_counter, \"time\"] = femur_counter\n",
    "            df.at[femur_counter, \"femur_x\"] = pitch\n",
    "            df.at[femur_counter, \"femur_y\"] = roll\n",
    "            df.at[femur_counter, \"femur_z\"] = yaw\n",
    "            femur_counter += 1\n",
    "        elif (line.split()[1] == \"1\"):\n",
    "            df.at[tibia_counter, \"tibia_x\"] = pitch\n",
    "            df.at[tibia_counter, \"tibia_y\"] = roll\n",
    "            df.at[tibia_counter, \"tibia_z\"] = yaw\n",
    "            tibia_counter += 1\n"
   ]
  },
  {
   "cell_type": "code",
   "execution_count": 44,
   "metadata": {},
   "outputs": [
    {
     "name": "stdout",
     "output_type": "stream",
     "text": [
      "        time   femur_x   femur_y   femur_z   tibia_x   tibia_y   tibia_z   gf  \\\n",
      "0        0.0  0.332947 -0.311522  2.430274  0.236139 -0.086766 -0.379472  0.0   \n",
      "1        1.0  0.332828 -0.310216  2.433895  0.231294 -0.082222 -0.376960  0.0   \n",
      "2        2.0  0.333963 -0.311135  2.432773  0.227555 -0.078285 -0.374189  0.0   \n",
      "3        3.0  0.333134 -0.309973  2.433627  0.219877 -0.072948 -0.365764  0.0   \n",
      "4        4.0  0.333375 -0.311181  2.433509  0.214320 -0.067740 -0.361578  0.0   \n",
      "...      ...       ...       ...       ...       ...       ...       ...  ...   \n",
      "2711  2711.0  0.081031 -0.440061  1.915368  0.009391  0.329491  0.762273  0.0   \n",
      "2712  2712.0  0.081402 -0.439411  1.913665  0.010030  0.329194  0.757747  0.0   \n",
      "2713  2713.0  0.081315 -0.440022  1.912803  0.008888  0.329125  0.756917  0.0   \n",
      "2714  2714.0  0.081458 -0.440291  1.913213  0.010756  0.329232  0.757227  0.0   \n",
      "2715  2715.0  0.081303 -0.439414  1.913233  0.010327  0.328176  0.757075  0.0   \n",
      "\n",
      "       mg   gt   mt  \n",
      "0     0.0  0.0  0.0  \n",
      "1     0.0  0.0  0.0  \n",
      "2     0.0  0.0  0.0  \n",
      "3     0.0  0.0  0.0  \n",
      "4     0.0  0.0  0.0  \n",
      "...   ...  ...  ...  \n",
      "2711  0.0  0.0  0.0  \n",
      "2712  0.0  0.0  0.0  \n",
      "2713  0.0  0.0  0.0  \n",
      "2714  0.0  0.0  0.0  \n",
      "2715  0.0  0.0  0.0  \n",
      "\n",
      "[2716 rows x 11 columns]\n"
     ]
    }
   ],
   "source": [
    "print(df)\n",
    "df.to_csv(\"camera_conversion.csv\")\n"
   ]
  }
 ],
 "metadata": {
  "kernelspec": {
   "display_name": "Python 3",
   "language": "python",
   "name": "python3"
  },
  "language_info": {
   "codemirror_mode": {
    "name": "ipython",
    "version": 3
   },
   "file_extension": ".py",
   "mimetype": "text/x-python",
   "name": "python",
   "nbconvert_exporter": "python",
   "pygments_lexer": "ipython3",
   "version": "3.11.6"
  }
 },
 "nbformat": 4,
 "nbformat_minor": 2
}
